{
 "cells": [
  {
   "cell_type": "markdown",
   "metadata": {},
   "source": [
    "Biopython tiene una libreria que permite graficar genes, en está ocasión ocuparemos *GenomeDiagram* para graficar bloques y flechas que simulen un gen.\n",
    "\n",
    "1. Activen el ambiente conda \n",
    "\n",
    "    $ conda activate dbclass_py3\n",
    "\n",
    "\n",
    "2. Importen las librerias a usar:\n",
    "\n",
    "    $ pip install biopython\n",
    "\n",
    "    $ pip install ReportLab\n"
   ]
  },
  {
   "cell_type": "code",
   "execution_count": 1,
   "metadata": {},
   "outputs": [],
   "source": [
    "# Importar las librerias\n",
    "from reportlab.lib import colors\n",
    "from reportlab.lib.units import cm\n",
    "from Bio.Graphics import GenomeDiagram\n",
    "from Bio.SeqFeature import SeqFeature, FeatureLocation\n",
    "from IPython.core.display import Image"
   ]
  },
  {
   "cell_type": "markdown",
   "metadata": {},
   "source": [
    "El objeto *GenomeDiagram* se inicializa con un nombre, después se le agrega un track vacio y se prepara para agregar \"características\" al objeto."
   ]
  },
  {
   "cell_type": "code",
   "execution_count": 2,
   "metadata": {},
   "outputs": [],
   "source": [
    "gdd = GenomeDiagram.Diagram('Test Diagram')\n",
    "gdt_features = gdd.new_track(1, greytrack=False)\n",
    "gds_features = gdt_features.new_set()"
   ]
  },
  {
   "cell_type": "markdown",
   "metadata": {},
   "source": [
    "Se agregan nuevas \"características\" al objeto *GenomeDiagram* y se especifica la posición en que se requiere dibujar dicho objeto (como puede ser un exon, promotor, gen, etc). \n",
    "\n",
    "Existen 3 opciones para plotear \"strand\":\n",
    "\n",
    "a) __+1__: Quiere decir que se encuentra en *forward* strand o 5' a 3'\n",
    "\n",
    "b) __None__: Quiere decir que se graficará en ambos sentidos\n",
    "\n",
    "c) __-1__ : Quiere decir que se encuentra en *reverse* strand o 3' a 5'\n",
    "\n",
    "\n",
    "También se pueden modificar la forma del objeto. Por default se obtiene una caja, pero se puede cambiar a flecha usando *sigil=\"ARROW\"*.\n",
    "\n",
    "Los colores se pueden cambiar, aquí ocupamos la libreria *color* que tiene colores predefinidos, pero también accepta hex color code (\"#ad42f5\""
   ]
  },
  {
   "cell_type": "code",
   "execution_count": 9,
   "metadata": {},
   "outputs": [
    {
     "data": {
      "text/plain": [
       "<Bio.Graphics.GenomeDiagram._Feature.Feature at 0x10eb631d0>"
      ]
     },
     "execution_count": 9,
     "metadata": {},
     "output_type": "execute_result"
    }
   ],
   "source": [
    "# Flecha azul\n",
    "feature = SeqFeature(FeatureLocation(25, 125), strand=+1)\n",
    "gds_features.add_feature(feature, name=\"Forward\", sigil=\"ARROW\",label=True, color = colors.blue)\n",
    "\n",
    "# Bloque verde\n",
    "feature = SeqFeature(FeatureLocation(150, 250), strand=None)\n",
    "gds_features.add_feature(feature, name=\"Strandless\", label=True, color = colors.green)\n",
    "\n",
    "# Flecha roja\n",
    "feature = SeqFeature(FeatureLocation(275, 375), strand=-1)\n",
    "gds_features.add_feature(feature, name=\"Reverse\",sigil=\"ARROW\", label=True, color = \"#ad42f5\")\n"
   ]
  },
  {
   "cell_type": "code",
   "execution_count": 10,
   "metadata": {},
   "outputs": [
    {
     "data": {
      "image/png": "[encoded data removed]",
      "text/plain": [
       "<IPython.core.display.Image object>"
      ]
     },
     "execution_count": 10,
     "metadata": {},
     "output_type": "execute_result"
    }
   ],
   "source": [
    "gdd.draw(format='linear', pagesize=(25*cm,4*cm), fragments=1,\n",
    "         start=0, end=400)\n",
    "\n",
    "gdd.write(\"GD_labels_default.png\", \"png\")\n",
    "Image(\"GD_labels_default.png\")"
   ]
  },
  {
   "cell_type": "markdown",
   "metadata": {},
   "source": [
    "Ligas de apoyo: \n",
    "https://biopython-tutorial.readthedocs.io/en/latest/notebooks/17%20-%20Graphics%20including%20GenomeDiagram.html"
   ]
  }
 ],
 "metadata": {
  "kernelspec": {
   "display_name": "Python 3",
   "language": "python",
   "name": "python3"
  },
  "language_info": {
   "codemirror_mode": {
    "name": "ipython",
    "version": 3
   },
   "file_extension": ".py",
   "mimetype": "text/x-python",
   "name": "python",
   "nbconvert_exporter": "python",
   "pygments_lexer": "ipython3",
   "version": "3.7.4"
  }
 },
 "nbformat": 4,
 "nbformat_minor": 2
}
