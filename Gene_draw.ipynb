{
 "cells": [
  {
   "cell_type": "code",
   "execution_count": 4,
   "metadata": {},
   "outputs": [],
   "source": [
    "from reportlab.lib import colors\n",
    "from reportlab.lib.units import cm\n",
    "from Bio.Graphics import GenomeDiagram\n",
    "from Bio.SeqFeature import SeqFeature, FeatureLocation\n",
    "from Bio import SeqIO\n",
    "from IPython.core.display import Image"
   ]
  },
  {
   "cell_type": "code",
   "execution_count": 8,
   "metadata": {},
   "outputs": [],
   "source": [
    "my_seq_feature = SeqFeature(FeatureLocation(10,200),strand=+1)"
   ]
  },
  {
   "cell_type": "code",
   "execution_count": null,
   "metadata": {},
   "outputs": [],
   "source": [
    "gdd = GenomeDiagram.Diagram('Test Diagram')\n",
    "gdt_features = gdd.new_track(1, greytrack=False)\n",
    "gds_features = gdt_features.new_set()"
   ]
  },
  {
   "cell_type": "code",
   "execution_count": 28,
   "metadata": {},
   "outputs": [
    {
     "data": {
      "image/png": "[encoded data removed]",
      "text/plain": [
       "<IPython.core.display.Image object>"
      ]
     },
     "execution_count": 28,
     "metadata": {},
     "output_type": "execute_result"
    }
   ],
   "source": [
    "# Flecha azul\n",
    "feature = SeqFeature(FeatureLocation(25, 125), strand=+1)\n",
    "gds_features.add_feature(feature, name=\"Forward\", sigil=\"ARROW\",label=True, color = colors.blue)\n",
    "\n",
    "\n",
    "feature = SeqFeature(FeatureLocation(150, 250), strand=None)\n",
    "gds_features.add_feature(feature, name=\"Strandless\", label=True, color = colors.green)\n",
    "\n",
    "feature = SeqFeature(FeatureLocation(275, 375), strand=-1)\n",
    "gds_features.add_feature(feature, name=\"Reverse\",sigil=\"ARROW\", label=True, color = colors.red)\n",
    "\n",
    "gdd.draw(format='linear', pagesize=(15*cm,4*cm), fragments=1,\n",
    "         start=0, end=400)\n",
    "\n",
    "gdd.write(\"GD_labels_default.png\", \"png\")\n",
    "Image(\"GD_labels_default.png\")"
   ]
  },
  {
   "cell_type": "code",
   "execution_count": null,
   "metadata": {},
   "outputs": [],
   "source": []
  }
 ],
 "metadata": {
  "kernelspec": {
   "display_name": "Python 3",
   "language": "python",
   "name": "python3"
  },
  "language_info": {
   "codemirror_mode": {
    "name": "ipython",
    "version": 3
   },
   "file_extension": ".py",
   "mimetype": "text/x-python",
   "name": "python",
   "nbconvert_exporter": "python",
   "pygments_lexer": "ipython3",
   "version": "3.7.4"
  }
 },
 "nbformat": 4,
 "nbformat_minor": 2
}
