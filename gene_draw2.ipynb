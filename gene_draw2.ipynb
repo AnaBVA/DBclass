{
 "cells": [
  {
   "cell_type": "code",
   "execution_count": 1,
   "metadata": {},
   "outputs": [],
   "source": [
    "from reportlab.lib import colors\n",
    "from reportlab.lib.units import cm\n",
    "from Bio.Graphics import GenomeDiagram\n",
    "from Bio.SeqFeature import SeqFeature, FeatureLocation\n",
    "from IPython.core.display import Image"
   ]
  },
  {
   "cell_type": "markdown",
   "metadata": {},
   "source": [
    "Parámetros variables "
   ]
  },
  {
   "cell_type": "code",
   "execution_count": 4,
   "metadata": {},
   "outputs": [
    {
     "data": {
      "text/plain": [
       "\"<class 'int'>\""
      ]
     },
     "execution_count": 4,
     "metadata": {},
     "output_type": "execute_result"
    }
   ],
   "source": [
    "gene = \"Gene\"\n",
    "start = 70387 \n",
    "end = 71265\n",
    "strand = +1\n",
    "str(type(start))"
   ]
  },
  {
   "cell_type": "markdown",
   "metadata": {},
   "source": [
    "Se calculan las posiciones absolutas del gen"
   ]
  },
  {
   "cell_type": "code",
   "execution_count": 23,
   "metadata": {},
   "outputs": [],
   "source": [
    "# posiciones absolutas\n",
    "abs_start = 0\n",
    "abs_end = end - start "
   ]
  },
  {
   "cell_type": "code",
   "execution_count": 24,
   "metadata": {},
   "outputs": [],
   "source": [
    "gdd = GenomeDiagram.Diagram(gene)\n",
    "gdt_features = gdd.new_track(1, greytrack=False)\n",
    "gds_features = gdt_features.new_set()"
   ]
  },
  {
   "cell_type": "code",
   "execution_count": 25,
   "metadata": {},
   "outputs": [
    {
     "data": {
      "text/plain": [
       "<Bio.Graphics.GenomeDiagram._Feature.Feature at 0x111c3c310>"
      ]
     },
     "execution_count": 25,
     "metadata": {},
     "output_type": "execute_result"
    }
   ],
   "source": [
    "# Flecha azul\n",
    "feature = SeqFeature(FeatureLocation(abs_start,abs_end), strand= strand)\n",
    "gds_features.add_feature(feature, \n",
    "                         name=gene, \n",
    "                         sigil=\"ARROW\",\n",
    "                         label=True,\n",
    "                         label_size=25, \n",
    "                         label_angle=0,\n",
    "                         color = colors.blue)\n"
   ]
  },
  {
   "cell_type": "code",
   "execution_count": 26,
   "metadata": {},
   "outputs": [
    {
     "data": {
      "image/png": "[encoded data removed]",
      "text/plain": [
       "<IPython.core.display.Image object>"
      ]
     },
     "execution_count": 26,
     "metadata": {},
     "output_type": "execute_result"
    }
   ],
   "source": [
    "gdd.draw(format='linear', pagesize=(25*cm,4*cm), fragments=1,\n",
    "         start=abs_start, end=abs_end + abs_end/10)\n",
    "\n",
    "gdd.write(\"images/GD_labels_default.png\", \"png\")\n",
    "Image(\"images/GD_labels_default.png\")"
   ]
  },
  {
   "cell_type": "code",
   "execution_count": null,
   "metadata": {},
   "outputs": [],
   "source": []
  }
 ],
 "metadata": {
  "kernelspec": {
   "display_name": "Python 3",
   "language": "python",
   "name": "python3"
  },
  "language_info": {
   "codemirror_mode": {
    "name": "ipython",
    "version": 3
   },
   "file_extension": ".py",
   "mimetype": "text/x-python",
   "name": "python",
   "nbconvert_exporter": "python",
   "pygments_lexer": "ipython3",
   "version": "3.7.4"
  }
 },
 "nbformat": 4,
 "nbformat_minor": 2
}
